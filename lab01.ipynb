{
 "cells": [
  {
   "cell_type": "markdown",
   "id": "ccb3a270",
   "metadata": {},
   "source": [
    "### Question no 2:"
   ]
  },
  {
   "cell_type": "code",
   "execution_count": 12,
   "id": "63152d27",
   "metadata": {},
   "outputs": [
    {
     "name": "stdout",
     "output_type": "stream",
     "text": [
      "[['The', 'purpose'], ['purpose', 'of'], ['of', 'our'], ['our', 'life'], ['life', 'is'], ['is', 'to'], ['to', 'happy'], ['happy', 'is'], ['is', 'to'], ['to', 'purpose'], ['purpose', 'of']]\n",
      "11\n",
      "['The', 'purpose']  has a count of  1\n",
      "['purpose', 'of']  has a count of  2\n",
      "['of', 'our']  has a count of  1\n",
      "['our', 'life']  has a count of  1\n",
      "['life', 'is']  has a count of  1\n",
      "['is', 'to']  has a count of  2\n",
      "['to', 'happy']  has a count of  1\n",
      "['happy', 'is']  has a count of  1\n",
      "['to', 'purpose']  has a count of  1\n"
     ]
    }
   ],
   "source": [
    "def countoccurrences(string1):\n",
    "    size=len(string1)\n",
    "    print (size)\n",
    "    x = []\n",
    "    for i in range(size) :\n",
    "        if i!= size-1:\n",
    "            count=1\n",
    "            #print(string1[i])\n",
    "            j=i+1\n",
    "            if string1[i] not in x:\n",
    "                x.append(string1[i])\n",
    "                while j < size:\n",
    "                    if string1[i]==string1[j]:\n",
    "                        count=count+1\n",
    "                        j = j+1\n",
    "                    else:\n",
    "                        j=j+1\n",
    "                print(string1[i],\" has a count of \" ,count)\n",
    "            else:\n",
    "                i = i + 1\n",
    "                #print(count)\n",
    "            \n",
    "def convert(strg):\n",
    "    length = len(strg.split())\n",
    "    splitted = strg.split()\n",
    "    list = []\n",
    "    new = []\n",
    "    count = 1\n",
    "    i = 0\n",
    "    j=0 \n",
    "    while count<=2 and i < length:\n",
    "        list.append(splitted[i])\n",
    "        count=count+1\n",
    "        i = i + 1\n",
    "        if count > 2 :\n",
    "            new.append(list)\n",
    "            count = 1\n",
    "            list = []\n",
    "            i = i - 1\n",
    "    return new\n",
    "# Driver code\n",
    "strg = \"The purpose of our life is to happy is to purpose of\"\n",
    "lst = []\n",
    "lst = convert(strg)\n",
    "print(lst)\n",
    "countoccurrences(lst)\n",
    "\n"
   ]
  },
  {
   "cell_type": "markdown",
   "id": "07e3c601",
   "metadata": {},
   "source": [
    "### Question no 1:"
   ]
  },
  {
   "cell_type": "code",
   "execution_count": null,
   "id": "d8f707b3",
   "metadata": {},
   "outputs": [],
   "source": []
  },
  {
   "cell_type": "code",
   "execution_count": null,
   "id": "bcd5fb7b",
   "metadata": {},
   "outputs": [],
   "source": []
  },
  {
   "cell_type": "code",
   "execution_count": null,
   "id": "e156d535",
   "metadata": {},
   "outputs": [],
   "source": []
  }
 ],
 "metadata": {
  "kernelspec": {
   "display_name": "Python 3 (ipykernel)",
   "language": "python",
   "name": "python3"
  },
  "language_info": {
   "codemirror_mode": {
    "name": "ipython",
    "version": 3
   },
   "file_extension": ".py",
   "mimetype": "text/x-python",
   "name": "python",
   "nbconvert_exporter": "python",
   "pygments_lexer": "ipython3",
   "version": "3.9.7"
  }
 },
 "nbformat": 4,
 "nbformat_minor": 5
}
